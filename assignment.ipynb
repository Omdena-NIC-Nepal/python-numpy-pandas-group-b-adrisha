{
 "cells": [
  {
   "cell_type": "code",
   "execution_count": 1,
   "metadata": {
    "id": "o7x05AgAPUP8"
   },
   "outputs": [],
   "source": [
    "# NumPy and Pandas Assignment\n",
    "# Complete the following tasks by filling in the code where indicated.\n",
    "# Ensure your notebook is well-documented with markdown cells explaining your code and result.\n",
    "\n",
    "import numpy as np\n",
    "import pandas as pd"
   ]
  },
  {
   "cell_type": "markdown",
   "metadata": {
    "id": "c1zhu_lDPUP9"
   },
   "source": [
    "# Task 1: NumPy Basics"
   ]
  },
  {
   "cell_type": "markdown",
   "metadata": {
    "id": "cSADnVuqPUP9",
    "outputId": "8472fd0a-be9a-4ff5-80fd-74a0d492c126"
   },
   "source": [
    "### Array Creation\n",
    "#### 1. Create an array of 10 zeros but set the fifth element to 1.\n"
   ]
  },
  {
   "cell_type": "code",
   "execution_count": null,
   "metadata": {},
   "outputs": [
    {
     "name": "stdout",
     "output_type": "stream",
     "text": [
      "[0. 0. 0. 0. 1. 0. 0. 0. 0. 0.]\n"
     ]
    }
   ],
   "source": [
    "# function to create arrya with 10 zeros\n",
    "def create_zeros_array():\n",
    "\tarr = np.zeros(10) # creating an numpy array of 10 elements, all initialized to 0\n",
    "\tarr[4] = 1 # set the fifth element (index 4) to 1\n",
    "\treturn arr # returning the modified array\n",
    "\n",
    "my_array = create_zeros_array() #calling the functions and store the returned array\n",
    "print(my_array) # print the resulting array [0. 0. 0. 0. 1. 0. 0. 0. 0. 0.]"
   ]
  },
  {
   "cell_type": "markdown",
   "metadata": {
    "id": "RipsFxj5PUP-",
    "outputId": "af3cec5f-ad17-4715-ab36-0a539d338e80",
    "tags": [
     "parameters"
    ]
   },
   "source": [
    "### 2. Create a 4x4 matrix with values ranging from 0 to 15."
   ]
  },
  {
   "cell_type": "code",
   "execution_count": null,
   "metadata": {
    "id": "k5VtDwfGPUP-",
    "outputId": "688f56dc-afce-4bfd-f354-624e9483ca15"
   },
   "outputs": [
    {
     "name": "stdout",
     "output_type": "stream",
     "text": [
      "[[ 0  1  2  3]\n",
      " [ 4  5  6  7]\n",
      " [ 8  9 10 11]\n",
      " [12 13 14 15]]\n"
     ]
    }
   ],
   "source": [
    "# solution\n",
    "def create_matrix():\n",
    "\tarr_matrix = np.arange(16).reshape(4,4) # Creating a 4x4 matrix with values 0 to 15\n",
    "\treturn arr_matrix # returning the matrix\n",
    "\n",
    "matrix_arr = create_matrix() # calling function and storing the returned matrix\n",
    "print(matrix_arr) # Printing the resulting matrix"
   ]
  },
  {
   "cell_type": "markdown",
   "metadata": {
    "id": "Fzr2UkPLPUP-",
    "outputId": "09fbb983-e138-4057-de75-a4c1ad46af98"
   },
   "source": [
    "### Array Operations\n",
    "\n",
    "#### 3. Create two NumPy arrays: Perform element-wise addition, subtraction, multiplication, and division.\n",
    "#### arr1: array([[41, 30, 10], [ 6, 35, 23], [23,  9, 10]])\n",
    "#### arr2: array([[4, 29,  2], [5, 13,  3], [24, 16,  7]])"
   ]
  },
  {
   "cell_type": "code",
   "execution_count": null,
   "metadata": {
    "id": "lexGZzzCPUP_",
    "outputId": "af75bdb4-fc3b-4772-c39f-97ba353b141c"
   },
   "outputs": [
    {
     "name": "stdout",
     "output_type": "stream",
     "text": [
      "Matrix addition:: \n",
      " [[45 59 12]\n",
      " [11 48 26]\n",
      " [47 25 17]] \n",
      " =============== \n",
      "\n",
      "Matrix subtractoin:: \n",
      " [[37  1  8]\n",
      " [ 1 22 20]\n",
      " [-1 -7  3]] \n",
      " =============== \n",
      "\n",
      "Matrix multiplication:: \n",
      " [[164 870  20]\n",
      " [ 30 455  69]\n",
      " [552 144  70]] \n",
      " =============== \n",
      "\n",
      "Matrix divison:: \n",
      " [[10.25        1.03448276  5.        ]\n",
      " [ 1.2         2.69230769  7.66666667]\n",
      " [ 0.95833333  0.5625      1.42857143]] \n",
      " =============== \n",
      "\n"
     ]
    }
   ],
   "source": [
    "# solution\n",
    "# Defining two matrices\n",
    "arr1 = np.array(\n",
    "\t[\n",
    "\t\t[41,30,10],\n",
    "\t\t[6,35,23],\n",
    "\t\t[23,9,10]\n",
    "\t]\n",
    ")\n",
    "\n",
    "arr2 = np.array(\n",
    "\t[\n",
    "\t\t[4,29,2],\n",
    "\t\t[5,13,3],\n",
    "\t\t[24,16,7]\n",
    "\t]\n",
    ")\n",
    "\n",
    "# creating function that takes two arrays and do summation, subtraction, mulitiply and divide\n",
    "def array_operatoins(a, b):\n",
    "\n",
    "\t# addition: arr1 + arr2\n",
    "\tarr_add = arr1 + arr2\n",
    "\t# subtraction: arr1 - arr2\n",
    "\tarr_sub = arr1 - arr2\n",
    "\t# division: arr1 / arr2\n",
    "\tarr_div = arr1 / arr2\n",
    "\t# multiplication: arr1 * arr2\n",
    "\tarr_mul = arr1 * arr2\n",
    "\n",
    "\t#printing results\n",
    "\tprint(f\"Matrix addition:: \\n {arr_add} \\n =============== \\n\")\n",
    "\tprint(f\"Matrix subtractoin:: \\n {arr_sub} \\n =============== \\n\")\n",
    "\tprint(f\"Matrix multiplication:: \\n {arr_mul} \\n =============== \\n\")\n",
    "\tprint(f\"Matrix divison:: \\n {arr_div} \\n =============== \\n\")\n",
    "\n",
    "array_operatoins(arr1, arr2)  # calling the function"
   ]
  },
  {
   "cell_type": "markdown",
   "metadata": {},
   "source": [
    "### Array Slicing\n",
    "#### 4. Given the array: \n",
    "#### arr = np.array([10, 20, 30, 40, 50, 60, 70, 80, 90, 100])\n",
    "#### Extract elements from index 2 to 6."
   ]
  },
  {
   "cell_type": "code",
   "execution_count": 23,
   "metadata": {},
   "outputs": [
    {
     "name": "stdout",
     "output_type": "stream",
     "text": [
      "[30 40 50 60 70]\n"
     ]
    }
   ],
   "source": [
    "# Function to perform array slicing\n",
    "def array_slicing():\n",
    "    arr = np.array([10, 20, 30, 40, 50, 60, 70, 80, 90, 100])  # Creating a NumPy array\n",
    "    arr_elements = arr[2:7]  # Slicing elements from index 2 to 6 (7 is excluded)\n",
    "    return arr_elements  # Returning the sliced elements\n",
    "\n",
    "# Calling the function and storing the result\n",
    "slice_elements = array_slicing()\n",
    "\n",
    "# Printing the sliced elements\n",
    "print(slice_elements)"
   ]
  },
  {
   "cell_type": "markdown",
   "metadata": {},
   "source": [
    "### Using NumPy Methods\n",
    "#### 5. Convert the array below to a 3×3 NumPy array.\n",
    "#### array([[15, 18, 20], [15, 30, 8], [25, 30, 60]])\n",
    "#### Find the mean, sum, and maximum value."
   ]
  },
  {
   "cell_type": "code",
   "execution_count": 24,
   "metadata": {},
   "outputs": [
    {
     "name": "stdout",
     "output_type": "stream",
     "text": [
      "Input Array:\n",
      "[[15 18 20]\n",
      " [15 30  8]\n",
      " [25 30 60]]\n",
      "=================\n",
      "Mean of Array Elements: 24.56\n",
      "Sum of Array Elements: 221\n",
      "Maximum Value of Array: 60\n"
     ]
    }
   ],
   "source": [
    "# define an array\n",
    "arr = np.array(\n",
    "\t[\n",
    "\t\t[15,18,20],\n",
    "\t\t[15,30,8],\n",
    "\t\t[25,30,60]\n",
    "\t]\n",
    "\t)\n",
    "\n",
    "# Function to perform aggregate matrix operations and NB: round the mean to two decimal places\n",
    "def aggreate_matrix_operations(a):\n",
    "    print(f\"Input Array:\\n{a}\\n=================\")  # Print the input array\n",
    "    print(f\"Mean of Array Elements: {round(a.mean(), 2)}\")  # Mean rounded to two decimal places\n",
    "    print(f\"Sum of Array Elements: {round(a.sum(), 2)}\")  # Sum of all elements in the array\n",
    "    print(f\"Maximum Value of Array: {round(a.max(), 2)}\")  # Maximum value in the array\n",
    "\n",
    "# Calling the function with the defined array\n",
    "aggreate_matrix_operations(arr)"
   ]
  },
  {
   "cell_type": "markdown",
   "metadata": {
    "id": "vie2MnWzPUP_"
   },
   "source": [
    "# Task 2: Pandas Basics"
   ]
  },
  {
   "cell_type": "markdown",
   "metadata": {
    "id": "rUKKzwUhPUP_",
    "outputId": "25c2c47e-7cc8-47e7-fc3d-97256f7ebc36"
   },
   "source": [
    "### Creating a Pandas Series\n",
    "#### 1. Create a Pandas Series from the list [10, 20, 30, 40, 50] with index labels 'a', 'b', 'c', 'd', 'e'."
   ]
  },
  {
   "cell_type": "code",
   "execution_count": 7,
   "metadata": {
    "id": "ZlpSxf2HPUP_",
    "outputId": "8e5f27b0-534b-4702-af6b-301096951d9d"
   },
   "outputs": [
    {
     "name": "stdout",
     "output_type": "stream",
     "text": [
      "a    10\n",
      "b    20\n",
      "c    30\n",
      "d    40\n",
      "e    50\n",
      "dtype: int64\n"
     ]
    }
   ],
   "source": [
    "# solution\n",
    "def create_pandas_series():\n",
    "\n",
    "\tdata_list = [10,20,30,40,50]\n",
    "\tindex_label = ['a','b','c','d','e']\n",
    "\n",
    "\tseries = pd.Series(data_list, index_label)\n",
    "\treturn series\n",
    "\n",
    "pd_series = create_pandas_series()\n",
    "print(pd_series)\n"
   ]
  },
  {
   "cell_type": "markdown",
   "metadata": {
    "id": "B2E7-OV5PUP_",
    "outputId": "87c32ef2-137e-46ea-9fb2-ab68bb80e06c"
   },
   "source": [
    "### Reading a CSV File\n",
    "#### 2. Read a CSV file named \"data.csv\" into a Pandas DataFrame. The CSV file has the following columns: \"Name\", \"Age\", \"Salary\"."
   ]
  },
  {
   "cell_type": "code",
   "execution_count": 8,
   "metadata": {},
   "outputs": [
    {
     "name": "stdout",
     "output_type": "stream",
     "text": [
      "Index(['Name', 'Age', 'Salary'], dtype='object')\n",
      "       Name  Age  Salary\n",
      "0     Alice   29   73193\n",
      "1       Bob   53   85398\n",
      "2   Charlie   36   47162\n",
      "3     David   22   65853\n",
      "4       Eve   24   36168\n",
      "5     Frank   58   69657\n",
      "6     Grace   41   85202\n",
      "7    Hannah   38   62421\n",
      "8     Isaac   50   74641\n",
      "9      Jack   47   38963\n",
      "10    Karen   34   32136\n",
      "11      Leo   49   41874\n",
      "12     Mona   56   34070\n",
      "13     Nina   49   91734\n",
      "14    Oscar   30   89539\n",
      "15     Paul   23   78720\n",
      "16    Quinn   31   54424\n",
      "17   Rachel   54   59900\n",
      "18    Steve   36   32163\n",
      "19     Tina   56   52054\n"
     ]
    },
    {
     "data": {
      "text/plain": [
       "Index(['Name', 'Age', 'Score'], dtype='object')"
      ]
     },
     "execution_count": 8,
     "metadata": {},
     "output_type": "execute_result"
    }
   ],
   "source": [
    "# solution\n",
    "def read_csv_file():\n",
    "\tdf = pd.read_csv(\"data/data.csv\")\n",
    "\treturn df\n",
    "\n",
    "df1 = read_csv_file()\n",
    "print(df1.columns)\n",
    "\n",
    "print(df1)\n",
    "\n",
    "df = df1.rename(columns={\"Salary\": \"Score\"}, inplace = False)\n",
    "df.columns\n"
   ]
  },
  {
   "cell_type": "markdown",
   "metadata": {
    "id": "0bx-pMjFPUQA",
    "outputId": "d841093f-a189-4904-a6cd-1eddb40792f1"
   },
   "source": [
    "### Slicing a DataFrame\n",
    "#### 3. From the DataFrame created in Exercise 2, select only the first three rows."
   ]
  },
  {
   "cell_type": "code",
   "execution_count": 9,
   "metadata": {
    "id": "2pQ2LSFhPUQA",
    "outputId": "9e7811fb-9a3a-47dd-9c7b-0c7030b2880d"
   },
   "outputs": [
    {
     "name": "stdout",
     "output_type": "stream",
     "text": [
      "      Name  Age  Salary\n",
      "0    Alice   29   73193\n",
      "1      Bob   53   85398\n",
      "2  Charlie   36   47162\n"
     ]
    }
   ],
   "source": [
    "def select_three_rows(df):\n",
    "\treturn df.iloc[:3]\n",
    "\n",
    "df_three_rows = select_three_rows(df1)\n",
    "print(df_three_rows)\n"
   ]
  },
  {
   "cell_type": "markdown",
   "metadata": {},
   "source": [
    "### Manipulating a DataFrame - Adding a Column\n",
    "#### 4. Add a new column named \"Tax\" to the DataFrame from Exercise 2. The tax should be calculated as 10% of the \"Salary\" column."
   ]
  },
  {
   "cell_type": "code",
   "execution_count": 10,
   "metadata": {
    "id": "NtWyRwfIPUQA",
    "outputId": "1495bd77-e301-494f-f1ab-0fadf74612fc"
   },
   "outputs": [
    {
     "name": "stdout",
     "output_type": "stream",
     "text": [
      "       Name  Age  Salary     Tax\n",
      "0     Alice   29   73193  7319.3\n",
      "1       Bob   53   85398  8539.8\n",
      "2   Charlie   36   47162  4716.2\n",
      "3     David   22   65853  6585.3\n",
      "4       Eve   24   36168  3616.8\n",
      "5     Frank   58   69657  6965.7\n",
      "6     Grace   41   85202  8520.2\n",
      "7    Hannah   38   62421  6242.1\n",
      "8     Isaac   50   74641  7464.1\n",
      "9      Jack   47   38963  3896.3\n",
      "10    Karen   34   32136  3213.6\n",
      "11      Leo   49   41874  4187.4\n",
      "12     Mona   56   34070  3407.0\n",
      "13     Nina   49   91734  9173.4\n",
      "14    Oscar   30   89539  8953.9\n",
      "15     Paul   23   78720  7872.0\n",
      "16    Quinn   31   54424  5442.4\n",
      "17   Rachel   54   59900  5990.0\n",
      "18    Steve   36   32163  3216.3\n",
      "19     Tina   56   52054  5205.4\n"
     ]
    }
   ],
   "source": [
    "# solution\n",
    "def add_column_tax(df, col_name):\n",
    "\tdf[col_name] = round((df[\"Salary\"] * 0.1), 2)\n",
    "\treturn df\n",
    "\n",
    "df_new = add_column_tax(df1,\"Tax\")\n",
    "print(df_new)"
   ]
  },
  {
   "cell_type": "markdown",
   "metadata": {},
   "source": [
    "#### Filter the dataframe by the column \"age\" whereby the age is above 36 years"
   ]
  },
  {
   "cell_type": "code",
   "execution_count": 11,
   "metadata": {
    "id": "rQ0oT6jxPUQA",
    "outputId": "2165c104-4cb4-4ea8-e8c3-1d70a03d7ca2"
   },
   "outputs": [
    {
     "name": "stdout",
     "output_type": "stream",
     "text": [
      "      Name  Age  Salary     Tax\n",
      "1      Bob   53   85398  8539.8\n",
      "5    Frank   58   69657  6965.7\n",
      "6    Grace   41   85202  8520.2\n",
      "7   Hannah   38   62421  6242.1\n",
      "8    Isaac   50   74641  7464.1\n",
      "9     Jack   47   38963  3896.3\n",
      "11     Leo   49   41874  4187.4\n",
      "12    Mona   56   34070  3407.0\n",
      "13    Nina   49   91734  9173.4\n",
      "17  Rachel   54   59900  5990.0\n",
      "19    Tina   56   52054  5205.4\n"
     ]
    }
   ],
   "source": [
    "# solution\n",
    "def filter_age_condition(df):\n",
    "\treturn df[df[\"Age\"] > 36]\n",
    "\n",
    "df_filtered = filter_age_condition(df1)\n",
    "print(df_filtered)"
   ]
  },
  {
   "cell_type": "markdown",
   "metadata": {
    "id": "N93ktZ39PUQA"
   },
   "source": [
    "# Task 3: Data Analysis with Pandas"
   ]
  },
  {
   "cell_type": "markdown",
   "metadata": {
    "id": "AjtmFP3GPUQB",
    "outputId": "0980655e-35c5-4ae0-a640-3acab029e694"
   },
   "source": [
    "### Aggregation - Compute Total and Mean Sales\n",
    "#### 1. Given a dataset of sales transactions, compute the total and mean sales per region."
   ]
  },
  {
   "cell_type": "code",
   "execution_count": 12,
   "metadata": {
    "id": "qT-ldaKpPUQB",
    "outputId": "918cf5fc-705d-464b-b53f-004f52f20dbc"
   },
   "outputs": [
    {
     "data": {
      "text/html": [
       "<div>\n",
       "<style scoped>\n",
       "    .dataframe tbody tr th:only-of-type {\n",
       "        vertical-align: middle;\n",
       "    }\n",
       "\n",
       "    .dataframe tbody tr th {\n",
       "        vertical-align: top;\n",
       "    }\n",
       "\n",
       "    .dataframe thead th {\n",
       "        text-align: right;\n",
       "    }\n",
       "</style>\n",
       "<table border=\"1\" class=\"dataframe\">\n",
       "  <thead>\n",
       "    <tr style=\"text-align: right;\">\n",
       "      <th></th>\n",
       "      <th>Region</th>\n",
       "      <th>Sales</th>\n",
       "    </tr>\n",
       "  </thead>\n",
       "  <tbody>\n",
       "    <tr>\n",
       "      <th>0</th>\n",
       "      <td>North</td>\n",
       "      <td>1000</td>\n",
       "    </tr>\n",
       "    <tr>\n",
       "      <th>1</th>\n",
       "      <td>South</td>\n",
       "      <td>1500</td>\n",
       "    </tr>\n",
       "    <tr>\n",
       "      <th>2</th>\n",
       "      <td>North</td>\n",
       "      <td>1200</td>\n",
       "    </tr>\n",
       "    <tr>\n",
       "      <th>3</th>\n",
       "      <td>West</td>\n",
       "      <td>1800</td>\n",
       "    </tr>\n",
       "    <tr>\n",
       "      <th>4</th>\n",
       "      <td>South</td>\n",
       "      <td>1300</td>\n",
       "    </tr>\n",
       "  </tbody>\n",
       "</table>\n",
       "</div>"
      ],
      "text/plain": [
       "  Region  Sales\n",
       "0  North   1000\n",
       "1  South   1500\n",
       "2  North   1200\n",
       "3   West   1800\n",
       "4  South   1300"
      ]
     },
     "execution_count": 12,
     "metadata": {},
     "output_type": "execute_result"
    }
   ],
   "source": [
    "# Sample Data\n",
    "sales_data = pd.DataFrame({\n",
    "    \"Region\": [\"North\", \"South\", \"North\", \"West\", \"South\", \"West\"],\n",
    "    \"Sales\": [1000, 1500, 1200, 1800, 1300, 1700]\n",
    "})\n",
    "sales_data.head()"
   ]
  },
  {
   "cell_type": "code",
   "execution_count": 13,
   "metadata": {},
   "outputs": [
    {
     "name": "stdout",
     "output_type": "stream",
     "text": [
      "        Total Regional Sales  Average sales\n",
      "Region                                     \n",
      "North                   2200         1100.0\n",
      "South                   2800         1400.0\n",
      "West                    3500         1750.0\n"
     ]
    }
   ],
   "source": [
    "# solution\n",
    "# we use groupby() pandas function to compute the total and mean sales per region\n",
    "\n",
    "# computing total and mean sales as per the region\n",
    "sales_summary = sales_data.groupby(\"Region\")[\"Sales\"].agg([\"sum\", \"mean\"])\n",
    "\n",
    "sales_summary.columns = [\"Total Regional Sales\", \"Average sales\"]\n",
    "print(sales_summary)\n"
   ]
  },
  {
   "cell_type": "markdown",
   "metadata": {
    "id": "ynk6eTfoPUQB",
    "outputId": "f5d51302-fb1e-4524-88c6-1089a1aa1dc5"
   },
   "source": [
    "### Merging - Combine Customer and Order Data\n",
    "#### 2. Merge customers and orders data based on CustomerID."
   ]
  },
  {
   "cell_type": "code",
   "execution_count": null,
   "metadata": {
    "id": "RcbdmPYdPUQB",
    "outputId": "eb10b536-d73a-406e-af20-966cba72ce4d"
   },
   "outputs": [
    {
     "name": "stdout",
     "output_type": "stream",
     "text": [
      "   CustomerID CustomerName\n",
      "0           1        Alice\n",
      "1           2          Bob \n",
      "\n",
      "    OrderID  CustomerID  Amount\n",
      "0      101           1     250\n",
      "1      102           2     400\n"
     ]
    }
   ],
   "source": [
    "customers = pd.DataFrame({\n",
    "    \"CustomerID\": [1, 2, 3, 4],\n",
    "    \"CustomerName\": [\"Alice\", \"Bob\", \"Charlie\", \"David\"]\n",
    "})\n",
    "\n",
    "orders = pd.DataFrame({\n",
    "    \"OrderID\": [101, 102, 103, 104],\n",
    "    \"CustomerID\": [1, 2, 2, 4],\n",
    "    \"Amount\": [250, 400, 600, 150]\n",
    "})\n",
    "\n",
    "print(customers.head(2) , \"\\n\\n\", orders.head(2))"
   ]
  },
  {
   "cell_type": "code",
   "execution_count": 15,
   "metadata": {
    "id": "S8Pd45ksPUQB"
   },
   "outputs": [
    {
     "name": "stdout",
     "output_type": "stream",
     "text": [
      "   CustomerID CustomerName  OrderID  Amount\n",
      "0           1        Alice      101     250\n",
      "1           2          Bob      102     400\n",
      "2           2          Bob      103     600\n",
      "3           4        David      104     150\n"
     ]
    }
   ],
   "source": [
    "# solution\n",
    "# Merging the customers and orderds dataframe wrt CustomerID to make customer_orders dataframe\n",
    "customer_orders = pd.merge(customers, orders, on = \"CustomerID\")\n",
    "print(customer_orders)"
   ]
  },
  {
   "cell_type": "markdown",
   "metadata": {},
   "source": [
    "### Joining - Left Join Employee Data\n",
    "#### 4. Perform a left join between employees and departments on DeptID."
   ]
  },
  {
   "cell_type": "code",
   "execution_count": 16,
   "metadata": {},
   "outputs": [
    {
     "name": "stdout",
     "output_type": "stream",
     "text": [
      "   EmpID EmpName  DeptID\n",
      "0    101    John       1\n",
      "1    102    Jane       2 \n",
      "\n",
      "    DeptID DeptName\n",
      "0       1       HR\n",
      "1       2  Finance\n"
     ]
    }
   ],
   "source": [
    "# NB: No test for this. Just an exercise for you to play around with\n",
    "employees = pd.DataFrame({\n",
    "    \"EmpID\": [101, 102, 103, 104],\n",
    "    \"EmpName\": [\"John\", \"Jane\", \"Alice\", \"Bob\"],\n",
    "    \"DeptID\": [1, 2, 2, 3]\n",
    "})\n",
    "\n",
    "departments = pd.DataFrame({\n",
    "    \"DeptID\": [1, 2],\n",
    "    \"DeptName\": [\"HR\", \"Finance\"]\n",
    "})\n",
    "\n",
    "print(employees.head(2), \"\\n\\n\", departments.head(2))"
   ]
  },
  {
   "cell_type": "code",
   "execution_count": 17,
   "metadata": {},
   "outputs": [
    {
     "name": "stdout",
     "output_type": "stream",
     "text": [
      "   EmpID EmpName  DeptID\n",
      "0    101    John       1\n",
      "1    102    Jane       2\n",
      "2    103   Alice       2\n",
      "3    104     Bob       3 \n",
      "\n",
      "    DeptID DeptName\n",
      "0       1       HR\n",
      "1       2  Finance\n"
     ]
    }
   ],
   "source": [
    "print(employees, \"\\n\\n\" , departments)"
   ]
  },
  {
   "cell_type": "code",
   "execution_count": 18,
   "metadata": {},
   "outputs": [
    {
     "name": "stdout",
     "output_type": "stream",
     "text": [
      "   EmpID EmpName  DeptID DeptName\n",
      "0    101    John       1       HR\n",
      "1    102    Jane       2  Finance\n",
      "2    103   Alice       2  Finance\n",
      "3    104     Bob       3      NaN\n"
     ]
    }
   ],
   "source": [
    "# solution\n",
    "left_join = employees.merge(departments, on=\"DeptID\", how=\"left\")\n",
    "print(left_join)"
   ]
  },
  {
   "cell_type": "markdown",
   "metadata": {},
   "source": [
    "### Pivot Table - Summarize Sales Data\n",
    "#### 4. Create a pivot table showing total sales for each Region and Product."
   ]
  },
  {
   "cell_type": "code",
   "execution_count": 19,
   "metadata": {},
   "outputs": [
    {
     "data": {
      "text/html": [
       "<div>\n",
       "<style scoped>\n",
       "    .dataframe tbody tr th:only-of-type {\n",
       "        vertical-align: middle;\n",
       "    }\n",
       "\n",
       "    .dataframe tbody tr th {\n",
       "        vertical-align: top;\n",
       "    }\n",
       "\n",
       "    .dataframe thead th {\n",
       "        text-align: right;\n",
       "    }\n",
       "</style>\n",
       "<table border=\"1\" class=\"dataframe\">\n",
       "  <thead>\n",
       "    <tr style=\"text-align: right;\">\n",
       "      <th></th>\n",
       "      <th>Region</th>\n",
       "      <th>Product</th>\n",
       "      <th>Sales</th>\n",
       "    </tr>\n",
       "  </thead>\n",
       "  <tbody>\n",
       "    <tr>\n",
       "      <th>0</th>\n",
       "      <td>North</td>\n",
       "      <td>A</td>\n",
       "      <td>200</td>\n",
       "    </tr>\n",
       "    <tr>\n",
       "      <th>1</th>\n",
       "      <td>North</td>\n",
       "      <td>B</td>\n",
       "      <td>300</td>\n",
       "    </tr>\n",
       "  </tbody>\n",
       "</table>\n",
       "</div>"
      ],
      "text/plain": [
       "  Region Product  Sales\n",
       "0  North       A    200\n",
       "1  North       B    300"
      ]
     },
     "execution_count": 19,
     "metadata": {},
     "output_type": "execute_result"
    }
   ],
   "source": [
    "sales_pivot_data = pd.DataFrame({\n",
    "    \"Region\": [\"North\", \"North\", \"South\", \"South\", \"West\", \"West\"],\n",
    "    \"Product\": [\"A\", \"B\", \"A\", \"B\", \"A\", \"B\"],\n",
    "    \"Sales\": [200, 300, 150, 400, 250, 500]\n",
    "})\n",
    "\n",
    "sales_pivot_data.head(2)"
   ]
  },
  {
   "cell_type": "code",
   "execution_count": 20,
   "metadata": {},
   "outputs": [
    {
     "data": {
      "text/html": [
       "<div>\n",
       "<style scoped>\n",
       "    .dataframe tbody tr th:only-of-type {\n",
       "        vertical-align: middle;\n",
       "    }\n",
       "\n",
       "    .dataframe tbody tr th {\n",
       "        vertical-align: top;\n",
       "    }\n",
       "\n",
       "    .dataframe thead th {\n",
       "        text-align: right;\n",
       "    }\n",
       "</style>\n",
       "<table border=\"1\" class=\"dataframe\">\n",
       "  <thead>\n",
       "    <tr style=\"text-align: right;\">\n",
       "      <th></th>\n",
       "      <th>Region</th>\n",
       "      <th>Product</th>\n",
       "      <th>Sales</th>\n",
       "    </tr>\n",
       "  </thead>\n",
       "  <tbody>\n",
       "    <tr>\n",
       "      <th>0</th>\n",
       "      <td>North</td>\n",
       "      <td>A</td>\n",
       "      <td>200</td>\n",
       "    </tr>\n",
       "    <tr>\n",
       "      <th>1</th>\n",
       "      <td>North</td>\n",
       "      <td>B</td>\n",
       "      <td>300</td>\n",
       "    </tr>\n",
       "    <tr>\n",
       "      <th>2</th>\n",
       "      <td>South</td>\n",
       "      <td>A</td>\n",
       "      <td>150</td>\n",
       "    </tr>\n",
       "    <tr>\n",
       "      <th>3</th>\n",
       "      <td>South</td>\n",
       "      <td>B</td>\n",
       "      <td>400</td>\n",
       "    </tr>\n",
       "    <tr>\n",
       "      <th>4</th>\n",
       "      <td>West</td>\n",
       "      <td>A</td>\n",
       "      <td>250</td>\n",
       "    </tr>\n",
       "    <tr>\n",
       "      <th>5</th>\n",
       "      <td>West</td>\n",
       "      <td>B</td>\n",
       "      <td>500</td>\n",
       "    </tr>\n",
       "  </tbody>\n",
       "</table>\n",
       "</div>"
      ],
      "text/plain": [
       "  Region Product  Sales\n",
       "0  North       A    200\n",
       "1  North       B    300\n",
       "2  South       A    150\n",
       "3  South       B    400\n",
       "4   West       A    250\n",
       "5   West       B    500"
      ]
     },
     "execution_count": 20,
     "metadata": {},
     "output_type": "execute_result"
    }
   ],
   "source": [
    "sales_pivot_data"
   ]
  },
  {
   "cell_type": "code",
   "execution_count": 21,
   "metadata": {},
   "outputs": [
    {
     "name": "stdout",
     "output_type": "stream",
     "text": [
      "Product      A      B\n",
      "Region               \n",
      "North    200.0  300.0\n",
      "South    150.0  400.0\n",
      "West     250.0  500.0\n"
     ]
    }
   ],
   "source": [
    "# solution\n",
    "# A pivot table is a means to organize summarize data dynamically by rearranging rows and columns. Help in  grouping, aggregating, and analyzing large datasets.\n",
    "\n",
    "# Pivoting to show sales group by Region and product\n",
    "sales_pivot = sales_pivot_data.pivot_table(index=\"Region\", columns=\"Product\", values=\"Sales\")\n",
    "print(sales_pivot)\n"
   ]
  }
 ],
 "metadata": {
  "colab": {
   "provenance": []
  },
  "kernelspec": {
   "display_name": "base",
   "language": "python",
   "name": "python3"
  },
  "language_info": {
   "codemirror_mode": {
    "name": "ipython",
    "version": 3
   },
   "file_extension": ".py",
   "mimetype": "text/x-python",
   "name": "python",
   "nbconvert_exporter": "python",
   "pygments_lexer": "ipython3",
   "version": "3.12.7"
  }
 },
 "nbformat": 4,
 "nbformat_minor": 0
}
